{
 "cells": [
  {
   "cell_type": "code",
   "execution_count": 49,
   "metadata": {},
   "outputs": [],
   "source": [
    "# -*- coding:utf-8 -*-\n",
    "import pandas as pd\n",
    "import numpy as np\n",
    "import math\n",
    "import csv\n",
    "import time\n",
    "import jieba\n",
    "import jieba.analyse\n",
    "from os import listdir\n",
    "from opencc import OpenCC"
   ]
  },
  {
   "cell_type": "code",
   "execution_count": 50,
   "metadata": {},
   "outputs": [
    {
     "name": "stderr",
     "output_type": "stream",
     "text": [
      "Building prefix dict from /home/ethan/pythonwork/ipynotebook/word2vec/Code/jieba_setting/dict.txt.big ...\n",
      "Loading model from cache /tmp/jieba.ubb02f89edfa6b574edbd6738ebd0ae70.cache\n",
      "Loading model cost 1.503 seconds.\n",
      "Prefix dict has been built succesfully.\n"
     ]
    },
    {
     "name": "stdout",
     "output_type": "stream",
     "text": [
      "8774\n"
     ]
    }
   ],
   "source": [
    "\n",
    "# ---- initial setting ----\n",
    "\n",
    "# jieba setting\n",
    "relativePath = os.getcwd()\n",
    "jieba.analyse.set_stop_words(relativePath + '/jieba_setting/dict_stop_words.txt')\n",
    "jieba.set_dictionary(relativePath + '/jieba_setting/dict.txt.big')\n",
    "jieba.load_userdict(relativePath + '/jieba_setting/stopwords.txt')\n",
    "\n",
    "# opencc setting\n",
    "# 'hk2s': Traditional Chinese (Hong Kong standard) to Simplified Chinese\n",
    "# 's2hk': Simplified Chinese to Traditional Chinese (Hong Kong standard)\n",
    "# 's2t': Simplified Chinese to Traditional Chinese\n",
    "# 's2tw': Simplified Chinese to Traditional Chinese (Taiwan standard)\n",
    "# 's2twp': Simplified Chinese to Traditional Chinese (Taiwan standard, with phrases)\n",
    "# 't2hk': Traditional Chinese to Traditional Chinese (Hong Kong standard)\n",
    "# 't2s': Traditional Chinese to Simplified Chinese\n",
    "# 't2tw': Traditional Chinese to Traditional Chinese (Taiwan standard)\n",
    "# 'tw2s': Traditional Chinese (Taiwan standard) to Simplified Chinese\n",
    "# 'tw2sp': Traditional Chinese (Taiwan standard) to Simplified Chinese (with phrases)\n",
    "openCC = OpenCC('t2s')\n",
    "\n",
    "# path setting\n",
    "relativePath = os.getcwd()\n",
    "corpusPath = os.path.dirname(relativePath) + '/Data/Corpus/'\n",
    "cPath = listdir(corpusPath)\n",
    "print(len(cPath))\n",
    "# ---- initial setting ----\n"
   ]
  },
  {
   "cell_type": "code",
   "execution_count": 51,
   "metadata": {},
   "outputs": [
    {
     "name": "stdout",
     "output_type": "stream",
     "text": [
      "Start process merge file\n",
      "Already done 5 percent\n",
      "Already done 10 percent\n",
      "Already done 15 percent\n",
      "Already done 20 percent\n",
      "Already done 25 percent\n",
      "Already done 30 percent\n",
      "Already done 35 percent\n",
      "Already done 40 percent\n",
      "Already done 45 percent\n",
      "Already done 50 percent\n",
      "Already done 55 percent\n",
      "Already done 60 percent\n",
      "Already done 65 percent\n",
      "Already done 70 percent\n",
      "Already done 75 percent\n",
      "Already done 80 percent\n",
      "Already done 85 percent\n",
      "Already done 90 percent\n",
      "Already done 95 percent\n",
      "Already done 100 percent\n",
      "Corpus append done!, It took : 145.41s\n"
     ]
    }
   ],
   "source": [
    "# with open(\"wiki_texts.txt\",'w',encoding='utf-8') as output:\n",
    "#         for text in wiki_corpus.get_texts():\n",
    "#             output.write(' '.join(text) + '\\n')\n",
    "#             texts_num += 1\n",
    "#             if texts_num % 10000 == 0:\n",
    "#                 logging.info(\"已處理 %d 篇文章\" % texts_num)\n",
    "\n",
    "# merge all corpus to one txt file\n",
    "sTime = time.time()\n",
    "corpusNum = 0\n",
    "print(\"Start process merge file\")\n",
    "with open(\"finalCorpus.txt\",'w',encoding='utf-8') as output:\n",
    "    for c in cPath:\n",
    "        corpusNum += 1\n",
    "        with open(corpusPath + c,'r',encoding='utf-8') as corpus:\n",
    "            for rd in corpus.readlines():\n",
    "                  output.write(rd)\n",
    "        if corpusNum % int(len(cPath)/20) == 0:\n",
    "            t = int(len(cPath)/20)\n",
    "            print(\"Already done %d percent\" % (corpusNum/t*5))\n",
    "print(\"Corpus append done!, It took : %.2fs\" % (time.time()-sTime))\n",
    "\n"
   ]
  },
  {
   "cell_type": "code",
   "execution_count": 52,
   "metadata": {},
   "outputs": [],
   "source": [
    "# def tw2sc(sentences):\n",
    "#     converted = openCC.convert(to_convert)\n",
    "#     print(converted)"
   ]
  },
  {
   "cell_type": "code",
   "execution_count": null,
   "metadata": {},
   "outputs": [],
   "source": []
  }
 ],
 "metadata": {
  "kernelspec": {
   "display_name": "Python 3",
   "language": "python",
   "name": "python3"
  }
 },
 "nbformat": 4,
 "nbformat_minor": 2
}
