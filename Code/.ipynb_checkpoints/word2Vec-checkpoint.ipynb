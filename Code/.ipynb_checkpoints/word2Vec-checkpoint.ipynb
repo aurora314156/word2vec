{
 "cells": [
  {
   "cell_type": "code",
   "execution_count": 27,
   "metadata": {},
   "outputs": [],
   "source": [
    "# -*- coding:utf-8 -*-\n",
    "import pandas as pd\n",
    "import numpy as np\n",
    "import math\n",
    "import csv\n",
    "import time\n",
    "import jieba\n",
    "import jieba.analyse\n",
    "from os import listdir\n"
   ]
  },
  {
   "cell_type": "code",
   "execution_count": 28,
   "metadata": {},
   "outputs": [
    {
     "name": "stderr",
     "output_type": "stream",
     "text": [
      "Building prefix dict from /home/ethan/pythonwork/ipynotebook/Word2Vec/Code/jieba_setting/dict.txt.big ...\n",
      "Loading model from cache /tmp/jieba.ub6c65639656effda956e07b6964b6b4e.cache\n",
      "Loading model cost 1.012 seconds.\n",
      "Prefix dict has been built succesfully.\n"
     ]
    }
   ],
   "source": [
    "# jieba setting\n",
    "\n",
    "relativePath = os.getcwd()\n",
    "jieba.analyse.set_stop_words(relativePath + '/jieba_setting/dict_stop_words.txt')\n",
    "jieba.set_dictionary(relativePath + '/jieba_setting/dict.txt.big')\n",
    "jieba.load_userdict(relativePath + '/jieba_setting/stopwords.txt')\n",
    "\n",
    "# jieba setting"
   ]
  },
  {
   "cell_type": "code",
   "execution_count": 29,
   "metadata": {},
   "outputs": [
    {
     "ename": "NameError",
     "evalue": "name 'listdir' is not defined",
     "output_type": "error",
     "traceback": [
      "\u001b[0;31m---------------------------------------------------------------------------\u001b[0m",
      "\u001b[0;31mNameError\u001b[0m                                 Traceback (most recent call last)",
      "\u001b[0;32m<ipython-input-29-d4fb4adce9fa>\u001b[0m in \u001b[0;36m<module>\u001b[0;34m()\u001b[0m\n\u001b[1;32m     10\u001b[0m \u001b[0mrelativePath\u001b[0m \u001b[0;34m=\u001b[0m \u001b[0mos\u001b[0m\u001b[0;34m.\u001b[0m\u001b[0mgetcwd\u001b[0m\u001b[0;34m(\u001b[0m\u001b[0;34m)\u001b[0m\u001b[0;34m\u001b[0m\u001b[0m\n\u001b[1;32m     11\u001b[0m \u001b[0mcorpusPath\u001b[0m \u001b[0;34m=\u001b[0m \u001b[0mos\u001b[0m\u001b[0;34m.\u001b[0m\u001b[0mpath\u001b[0m\u001b[0;34m.\u001b[0m\u001b[0mdirname\u001b[0m\u001b[0;34m(\u001b[0m\u001b[0mrelativePath\u001b[0m\u001b[0;34m)\u001b[0m \u001b[0;34m+\u001b[0m \u001b[0;34m'/Data/Corpus/'\u001b[0m\u001b[0;34m\u001b[0m\u001b[0m\n\u001b[0;32m---> 12\u001b[0;31m \u001b[0;32mfor\u001b[0m \u001b[0mi\u001b[0m \u001b[0;32min\u001b[0m \u001b[0mlistdir\u001b[0m\u001b[0;34m(\u001b[0m\u001b[0mcorpusPath\u001b[0m\u001b[0;34m)\u001b[0m\u001b[0;34m:\u001b[0m\u001b[0;34m\u001b[0m\u001b[0m\n\u001b[0m\u001b[1;32m     13\u001b[0m     \u001b[0mprint\u001b[0m\u001b[0;34m(\u001b[0m\u001b[0mi\u001b[0m\u001b[0;34m)\u001b[0m\u001b[0;34m\u001b[0m\u001b[0m\n\u001b[1;32m     14\u001b[0m \u001b[0;31m# for\u001b[0m\u001b[0;34m\u001b[0m\u001b[0;34m\u001b[0m\u001b[0m\n",
      "\u001b[0;31mNameError\u001b[0m: name 'listdir' is not defined"
     ]
    }
   ],
   "source": [
    "# with open(\"wiki_texts.txt\",'w',encoding='utf-8') as output:\n",
    "#         for text in wiki_corpus.get_texts():\n",
    "#             output.write(' '.join(text) + '\\n')\n",
    "#             texts_num += 1\n",
    "#             if texts_num % 10000 == 0:\n",
    "#                 logging.info(\"已處理 %d 篇文章\" % texts_num)\n",
    "\n",
    "\n",
    "# merge all corpus to one txt file\n",
    "relativePath = os.getcwd()\n",
    "corpusPath = os.path.dirname(relativePath) + '/Data/Corpus/'\n",
    "for i in listdir(corpusPath):\n",
    "    print(i)\n",
    "# for \n",
    "#     with open\n"
   ]
  },
  {
   "cell_type": "code",
   "execution_count": null,
   "metadata": {},
   "outputs": [],
   "source": []
  },
  {
   "cell_type": "code",
   "execution_count": null,
   "metadata": {},
   "outputs": [],
   "source": [
    "# # Q3\n",
    "\n",
    "# # Nodes 875713\n",
    "# # Edges 5105039\n",
    "\n",
    "\n",
    "\n",
    "# # ==== initial setting ====\n",
    "# sTime = time.time()\n",
    "# toNode = {}\n",
    "# fromNode = {}\n",
    "# # ==== initial setting ====\n",
    "\n",
    "\n",
    "# print(\"Start process Q3\")\n",
    "# # map data to rdd by spark\n",
    "# m = pd.read_csv(dataPath, sep=\"\\t\", header=None)\n",
    "# length = len(d)\n",
    "\n",
    "# for mm in range(length):\n",
    "#     fromNode[mm] = []\n",
    "#     toNode[mm] = []\n",
    "\n",
    "# for i in range(length):\n",
    "#     fromNode[m[1][i]].append(m[0][i])\n",
    "#     toNode[m[0][i]].append(m[1][i])\n",
    "#     if i % 30000 == 0:\n",
    "#         print(i+1)\n",
    "        \n",
    "# print(\"Q3 took: %.2fs\" % (time.time()-sTime))\n",
    "\n",
    "# # save Q3 Result\n",
    "# sTime = time.time()\n",
    "# with open(\"Q3_Result.txt\", 'w') as out:\n",
    "#     for i in range(length):\n",
    "#         out.write(str(i) + \"\\n\")\n",
    "#         out.write(str(toNode[i]) + \"\\n\")\n",
    "#         out.write(str(fromNode[i]) + \"\\n\")\n",
    "\n",
    "# print(\"Save Q3 ans took %.2f\" % (time.time()-sTime))\n",
    "\n",
    "# # Q3"
   ]
  }
 ],
 "metadata": {
  "kernelspec": {
   "display_name": "Python 3",
   "language": "python",
   "name": "python3"
  },
  "language_info": {
   "codemirror_mode": {
    "name": "ipython",
    "version": 3
   },
   "file_extension": ".py",
   "mimetype": "text/x-python",
   "name": "python",
   "nbconvert_exporter": "python",
   "pygments_lexer": "ipython3",
   "version": "3.6.4"
  }
 },
 "nbformat": 4,
 "nbformat_minor": 2
}
